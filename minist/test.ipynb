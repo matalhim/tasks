{
 "cells": [
  {
   "cell_type": "code",
   "id": "initial_id",
   "metadata": {
    "collapsed": true,
    "ExecuteTime": {
     "end_time": "2024-10-02T18:28:14.969433Z",
     "start_time": "2024-10-02T18:28:14.925073Z"
    }
   },
   "source": [
    "import torch\n",
    "import torch.nn as nn\n",
    "import torchvision as tv\n",
    "from mpmath.calculus.extrapolation import nprod\n",
    "import torch.nn.functional as F\n",
    "import numpy as np\n",
    "import matplotlib.pyplot as plt\n",
    "import cv2\n",
    "import os\n",
    "from tqdm import tqdm"
   ],
   "outputs": [],
   "execution_count": 94
  },
  {
   "metadata": {
    "ExecuteTime": {
     "end_time": "2024-10-02T16:56:18.507394Z",
     "start_time": "2024-10-02T16:56:18.502818Z"
    }
   },
   "cell_type": "code",
   "source": [
    "trans = tv.transforms.Compose([\n",
    "    tv.transforms.ToTensor()\n",
    "])"
   ],
   "id": "5fe55e269b4902b9",
   "outputs": [],
   "execution_count": 8
  },
  {
   "metadata": {
    "ExecuteTime": {
     "end_time": "2024-10-02T16:56:21.890526Z",
     "start_time": "2024-10-02T16:56:21.831341Z"
    }
   },
   "cell_type": "code",
   "source": "ds_mnist = tv.datasets.MNIST('./datasets', download=True, transform=trans)",
   "id": "62cbbcf8528808b",
   "outputs": [],
   "execution_count": 9
  },
  {
   "metadata": {
    "ExecuteTime": {
     "end_time": "2024-10-02T16:59:12.940498Z",
     "start_time": "2024-10-02T16:59:12.743220Z"
    }
   },
   "cell_type": "code",
   "source": [
    "ds_mnist[0][0].numpy()[0].shape\n",
    "plt.imshow(ds_mnist[2][0].numpy()[0])"
   ],
   "id": "10e75dea86e9737a",
   "outputs": [
    {
     "data": {
      "text/plain": [
       "<matplotlib.image.AxesImage at 0x1e05538f620>"
      ]
     },
     "execution_count": 18,
     "metadata": {},
     "output_type": "execute_result"
    },
    {
     "data": {
      "text/plain": [
       "<Figure size 640x480 with 1 Axes>"
      ],
      "image/png": "[encoded data removed]"
     },
     "metadata": {},
     "output_type": "display_data"
    }
   ],
   "execution_count": 18
  },
  {
   "metadata": {
    "ExecuteTime": {
     "end_time": "2024-10-02T17:01:47.361057Z",
     "start_time": "2024-10-02T17:01:47.346330Z"
    }
   },
   "cell_type": "code",
   "source": [
    "batch_size = 16\n",
    "dataloader = torch.utils.data.DataLoader(\n",
    "    ds_mnist, batch_size=batch_size , shuffle=True, \n",
    "    num_workers=1, drop_last=True\n",
    ")\n"
   ],
   "id": "c9b086e02e85bdbf",
   "outputs": [],
   "execution_count": 19
  },
  {
   "metadata": {
    "ExecuteTime": {
     "end_time": "2024-10-02T17:03:03.819671Z",
     "start_time": "2024-10-02T17:02:54.303838Z"
    }
   },
   "cell_type": "code",
   "source": [
    "for img, label  in dataloader:\n",
    "    print(img.shape, label.shape)\n",
    "    break"
   ],
   "id": "fdf1d3dcc26fdc9",
   "outputs": [
    {
     "name": "stdout",
     "output_type": "stream",
     "text": [
      "torch.Size([16, 1, 28, 28]) torch.Size([16])\n"
     ]
    }
   ],
   "execution_count": 20
  },
  {
   "metadata": {
    "ExecuteTime": {
     "end_time": "2024-10-02T18:54:30.642611Z",
     "start_time": "2024-10-02T18:54:30.632125Z"
    }
   },
   "cell_type": "code",
   "source": [
    "class Neural_nambers(nn.Module):\n",
    "    def __init__(self):\n",
    "        super().__init__()\n",
    "        self.linear1 = nn.Linear(28*28, 100)\n",
    "        self.linear2 = nn.Linear(100, 10)\n",
    "        self.act = nn.ReLU()\n",
    "    \n",
    "    def forward(self, x):\n",
    "        x = x.flatten(start_dim=1)\n",
    "        out = self.linear1(x)\n",
    "        out = self.act(out)\n",
    "        out = self.linear2(out)\n",
    "        \n",
    "        return out\n",
    "        "
   ],
   "id": "c8fd765c14ea7f2a",
   "outputs": [],
   "execution_count": 126
  },
  {
   "metadata": {
    "ExecuteTime": {
     "end_time": "2024-10-02T18:54:30.992313Z",
     "start_time": "2024-10-02T18:54:30.981008Z"
    }
   },
   "cell_type": "code",
   "source": [
    "DEVICE = torch.device('cuda' if torch.cuda.is_available() else 'cpu')\n",
    "DEVICE"
   ],
   "id": "73e3b59a8ae61b34",
   "outputs": [
    {
     "data": {
      "text/plain": [
       "device(type='cuda')"
      ]
     },
     "execution_count": 127,
     "metadata": {},
     "output_type": "execute_result"
    }
   ],
   "execution_count": 127
  },
  {
   "metadata": {
    "ExecuteTime": {
     "end_time": "2024-10-02T18:54:31.361688Z",
     "start_time": "2024-10-02T18:54:31.330438Z"
    }
   },
   "cell_type": "code",
   "source": [
    "model = Neural_nambers()\n",
    "model.to(DEVICE)"
   ],
   "id": "dfa3fb53ba785933",
   "outputs": [
    {
     "data": {
      "text/plain": [
       "Neural_nambers(\n",
       "  (linear1): Linear(in_features=784, out_features=100, bias=True)\n",
       "  (linear2): Linear(in_features=100, out_features=10, bias=True)\n",
       "  (act): ReLU()\n",
       ")"
      ]
     },
     "execution_count": 128,
     "metadata": {},
     "output_type": "execute_result"
    }
   ],
   "execution_count": 128
  },
  {
   "metadata": {
    "ExecuteTime": {
     "end_time": "2024-10-02T18:54:31.722368Z",
     "start_time": "2024-10-02T18:54:31.708968Z"
    }
   },
   "cell_type": "code",
   "source": [
    "def count_parameters(model):\n",
    "    return sum(p.numel() for p in model.parameters() if p.requires_grad)\n",
    "\n",
    "count_parameters(model)\n"
   ],
   "id": "df9a6536480c1d86",
   "outputs": [
    {
     "data": {
      "text/plain": [
       "79510"
      ]
     },
     "execution_count": 129,
     "metadata": {},
     "output_type": "execute_result"
    }
   ],
   "execution_count": 129
  },
  {
   "metadata": {
    "ExecuteTime": {
     "end_time": "2024-10-02T18:54:32.224280Z",
     "start_time": "2024-10-02T18:54:32.216855Z"
    }
   },
   "cell_type": "code",
   "source": "loss_fn = nn.CrossEntropyLoss()",
   "id": "cce29d13b421c7b3",
   "outputs": [],
   "execution_count": 130
  },
  {
   "metadata": {
    "ExecuteTime": {
     "end_time": "2024-10-02T18:54:32.622619Z",
     "start_time": "2024-10-02T18:54:32.610594Z"
    }
   },
   "cell_type": "code",
   "source": "optimizer = torch.optim.SGD(model.parameters(), lr=1e-3, momentum=0.9)",
   "id": "b0b0342e63b93b9f",
   "outputs": [],
   "execution_count": 131
  },
  {
   "metadata": {
    "ExecuteTime": {
     "end_time": "2024-10-02T18:54:33.038440Z",
     "start_time": "2024-10-02T18:54:33.031895Z"
    }
   },
   "cell_type": "code",
   "source": [
    "def accuracy(pred, label):\n",
    "    answer = F.softmax(pred, dim=1).argmax(1) == label.argmax(1)\n",
    "    answer = answer.to('cpu').numpy()\n",
    "    # print(answer.shape)\n",
    "    # print(answer)\n",
    "    # print(answer.sum())\n",
    "    return answer.mean()"
   ],
   "id": "7eb688b4c16b7b89",
   "outputs": [],
   "execution_count": 132
  },
  {
   "metadata": {
    "ExecuteTime": {
     "end_time": "2024-10-02T18:59:03.594952Z",
     "start_time": "2024-10-02T18:54:33.505086Z"
    }
   },
   "cell_type": "code",
   "source": [
    "epochs = 10\n",
    "\n",
    "for epoch in range(epochs):\n",
    "    loss_val = 0\n",
    "    acc_val = 0\n",
    "    for img, label in (pbar :=  tqdm(dataloader)):\n",
    "        optimizer.zero_grad()\n",
    "        label = F.one_hot(label, 10).float().to(DEVICE)\n",
    "        pred = model(img.to(DEVICE))\n",
    "        \n",
    "        loss = loss_fn(pred, label)\n",
    "        loss.backward()\n",
    "        loss_item = loss.item()\n",
    "        loss_val += loss_item\n",
    "        \n",
    "        optimizer.step()\n",
    "        \n",
    "        acc_current = accuracy(pred, label)\n",
    "        acc_val += acc_current\n",
    "        \n",
    "        pbar.set_description(f'Loss: {loss_item:.4f}\\accuracy: {acc_current:.4f}')\n",
    "    print(f'Epoch: {epoch+1}/{epochs}, Loss: {loss_val/len(dataloader)}')\n",
    "    print(f'Epoch: {epoch+1}/{epochs}, Accuracy: {acc_val/len(dataloader)}')"
   ],
   "id": "7d4f2bbc8b3fe60b",
   "outputs": [
    {
     "name": "stderr",
     "output_type": "stream",
     "text": [
      "Loss: 0.2053\u0007ccuracy: 1.0000: 100%|██████████| 3750/3750 [00:29<00:00, 127.56it/s]\n"
     ]
    },
    {
     "name": "stdout",
     "output_type": "stream",
     "text": [
      "Epoch: 1/10, Loss: 0.632910166221857\n",
      "Epoch: 1/10, Accuracy: 0.84745\n"
     ]
    },
    {
     "name": "stderr",
     "output_type": "stream",
     "text": [
      "Loss: 0.6485\u0007ccuracy: 0.8125: 100%|██████████| 3750/3750 [00:27<00:00, 138.27it/s]\n"
     ]
    },
    {
     "name": "stdout",
     "output_type": "stream",
     "text": [
      "Epoch: 2/10, Loss: 0.30773128780821957\n",
      "Epoch: 2/10, Accuracy: 0.9128\n"
     ]
    },
    {
     "name": "stderr",
     "output_type": "stream",
     "text": [
      "Loss: 0.7246\u0007ccuracy: 0.8125: 100%|██████████| 3750/3750 [00:27<00:00, 135.26it/s]\n"
     ]
    },
    {
     "name": "stdout",
     "output_type": "stream",
     "text": [
      "Epoch: 3/10, Loss: 0.25996062009955445\n",
      "Epoch: 3/10, Accuracy: 0.92685\n"
     ]
    },
    {
     "name": "stderr",
     "output_type": "stream",
     "text": [
      "Loss: 0.1700\u0007ccuracy: 0.9375: 100%|██████████| 3750/3750 [00:26<00:00, 142.23it/s]\n"
     ]
    },
    {
     "name": "stdout",
     "output_type": "stream",
     "text": [
      "Epoch: 4/10, Loss: 0.2274499714533488\n",
      "Epoch: 4/10, Accuracy: 0.93615\n"
     ]
    },
    {
     "name": "stderr",
     "output_type": "stream",
     "text": [
      "Loss: 0.2504\u0007ccuracy: 0.8750: 100%|██████████| 3750/3750 [00:25<00:00, 144.91it/s]\n"
     ]
    },
    {
     "name": "stdout",
     "output_type": "stream",
     "text": [
      "Epoch: 5/10, Loss: 0.20164310142633815\n",
      "Epoch: 5/10, Accuracy: 0.9434833333333333\n"
     ]
    },
    {
     "name": "stderr",
     "output_type": "stream",
     "text": [
      "Loss: 0.2458\u0007ccuracy: 0.8750: 100%|██████████| 3750/3750 [00:26<00:00, 140.42it/s]\n"
     ]
    },
    {
     "name": "stdout",
     "output_type": "stream",
     "text": [
      "Epoch: 6/10, Loss: 0.18165110219394168\n",
      "Epoch: 6/10, Accuracy: 0.9495166666666667\n"
     ]
    },
    {
     "name": "stderr",
     "output_type": "stream",
     "text": [
      "Loss: 0.1225\u0007ccuracy: 0.9375: 100%|██████████| 3750/3750 [00:29<00:00, 129.23it/s]\n"
     ]
    },
    {
     "name": "stdout",
     "output_type": "stream",
     "text": [
      "Epoch: 7/10, Loss: 0.1641262916802118\n",
      "Epoch: 7/10, Accuracy: 0.9539333333333333\n"
     ]
    },
    {
     "name": "stderr",
     "output_type": "stream",
     "text": [
      "Loss: 0.0283\u0007ccuracy: 1.0000: 100%|██████████| 3750/3750 [00:28<00:00, 133.89it/s]\n"
     ]
    },
    {
     "name": "stdout",
     "output_type": "stream",
     "text": [
      "Epoch: 8/10, Loss: 0.14982174316477032\n",
      "Epoch: 8/10, Accuracy: 0.95845\n"
     ]
    },
    {
     "name": "stderr",
     "output_type": "stream",
     "text": [
      "Loss: 0.1091\u0007ccuracy: 1.0000: 100%|██████████| 3750/3750 [00:24<00:00, 151.84it/s]\n"
     ]
    },
    {
     "name": "stdout",
     "output_type": "stream",
     "text": [
      "Epoch: 9/10, Loss: 0.13806148388534784\n",
      "Epoch: 9/10, Accuracy: 0.9614666666666667\n"
     ]
    },
    {
     "name": "stderr",
     "output_type": "stream",
     "text": [
      "Loss: 0.2023\u0007ccuracy: 0.9375: 100%|██████████| 3750/3750 [00:25<00:00, 149.30it/s]"
     ]
    },
    {
     "name": "stdout",
     "output_type": "stream",
     "text": [
      "Epoch: 10/10, Loss: 0.12711483243666588\n",
      "Epoch: 10/10, Accuracy: 0.9650166666666666\n"
     ]
    },
    {
     "name": "stderr",
     "output_type": "stream",
     "text": [
      "\n"
     ]
    }
   ],
   "execution_count": 133
  },
  {
   "metadata": {
    "ExecuteTime": {
     "end_time": "2024-10-02T18:51:06.686362Z",
     "start_time": "2024-10-02T18:51:06.666415Z"
    }
   },
   "cell_type": "code",
   "source": "accuracy(pred, label)",
   "id": "5c0b40cc4cad6c42",
   "outputs": [
    {
     "data": {
      "text/plain": [
       "1.0"
      ]
     },
     "execution_count": 124,
     "metadata": {},
     "output_type": "execute_result"
    }
   ],
   "execution_count": 124
  },
  {
   "metadata": {
    "ExecuteTime": {
     "end_time": "2024-10-02T19:01:15.373618Z",
     "start_time": "2024-10-02T19:01:15.361162Z"
    }
   },
   "cell_type": "code",
   "source": [
    "with torch.no_grad():\n",
    "    torch.cuda.empty_cache()"
   ],
   "id": "791019549d8c0d66",
   "outputs": [],
   "execution_count": 134
  },
  {
   "metadata": {
    "ExecuteTime": {
     "end_time": "2024-10-02T19:14:29.539755Z",
     "start_time": "2024-10-02T19:14:29.533432Z"
    }
   },
   "cell_type": "code",
   "source": [
    "img = cv2.imread('img1.png', cv2.IMREAD_GRAYSCALE)\n",
    "\n",
    "img = np.expand_dims(img, axis=0)\n",
    "img = np.expand_dims(img, axis=0)\n",
    "img =img.astype(np.float32)/255.0"
   ],
   "id": "ff36f18aacf80c84",
   "outputs": [],
   "execution_count": 155
  },
  {
   "metadata": {
    "ExecuteTime": {
     "end_time": "2024-10-02T19:14:29.965231Z",
     "start_time": "2024-10-02T19:14:29.957662Z"
    }
   },
   "cell_type": "code",
   "source": "img.shape",
   "id": "351a8514282a16e0",
   "outputs": [
    {
     "data": {
      "text/plain": [
       "(1, 1, 28, 28)"
      ]
     },
     "execution_count": 156,
     "metadata": {},
     "output_type": "execute_result"
    }
   ],
   "execution_count": 156
  },
  {
   "metadata": {
    "ExecuteTime": {
     "end_time": "2024-10-02T19:14:30.476187Z",
     "start_time": "2024-10-02T19:14:30.469325Z"
    }
   },
   "cell_type": "code",
   "source": [
    "t_img = torch.from_numpy(img).to(DEVICE)\n",
    "test_img = model(t_img)"
   ],
   "id": "60d3ac6766b0ab80",
   "outputs": [],
   "execution_count": 157
  },
  {
   "metadata": {
    "ExecuteTime": {
     "end_time": "2024-10-02T19:14:31.016609Z",
     "start_time": "2024-10-02T19:14:31.000367Z"
    }
   },
   "cell_type": "code",
   "source": "F.softmax(test_img.to('cpu')).detach().numpy()\n",
   "id": "f1960bc72c26341d",
   "outputs": [
    {
     "name": "stderr",
     "output_type": "stream",
     "text": [
      "C:\\Users\\matsvei\\AppData\\Local\\Temp\\ipykernel_3304\\1020567459.py:1: UserWarning: Implicit dimension choice for softmax has been deprecated. Change the call to include dim=X as an argument.\n",
      "  F.softmax(test_img.to('cpu')).detach().numpy()\n"
     ]
    },
    {
     "data": {
      "text/plain": [
       "array([[1.2505171e-03, 3.0051428e-10, 4.2540213e-01, 5.7325679e-01,\n",
       "        2.2744715e-09, 8.0797756e-05, 9.0208818e-09, 2.1488363e-08,\n",
       "        9.6981394e-06, 5.6504312e-10]], dtype=float32)"
      ]
     },
     "execution_count": 158,
     "metadata": {},
     "output_type": "execute_result"
    }
   ],
   "execution_count": 158
  },
  {
   "metadata": {},
   "cell_type": "code",
   "outputs": [],
   "execution_count": null,
   "source": "",
   "id": "b8bcdf927771c6c5"
  }
 ],
 "metadata": {
  "kernelspec": {
   "display_name": "Python 3",
   "language": "python",
   "name": "python3"
  },
  "language_info": {
   "codemirror_mode": {
    "name": "ipython",
    "version": 2
   },
   "file_extension": ".py",
   "mimetype": "text/x-python",
   "name": "python",
   "nbconvert_exporter": "python",
   "pygments_lexer": "ipython2",
   "version": "2.7.6"
  }
 },
 "nbformat": 4,
 "nbformat_minor": 5
}
